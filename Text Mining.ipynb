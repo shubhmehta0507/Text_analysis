{
 "cells": [
  {
   "cell_type": "code",
   "execution_count": 1,
   "metadata": {},
   "outputs": [],
   "source": [
    "import pandas as pd                       #data processing\n",
    "from sklearn.feature_extraction.text import TfidfVectorizer         #counting frequency of the word                  \n",
    "from sklearn.model_selection import train_test_split               #dividing training and testing data \n",
    "from sklearn.metrics import accuracy_score, f1_score, recall_score, precision_score      \n",
    "from sklearn.svm import SVC\n",
    "import re          #regular expression"
   ]
  },
  {
   "cell_type": "code",
   "execution_count": 2,
   "metadata": {},
   "outputs": [],
   "source": [
    "def cleaner(impure_data):\n",
    "    temp_list = []\n",
    "    for item in impure_data:\n",
    "        #finding words which start with @\n",
    "        item = re.sub('@\\S+', '', item)\n",
    "        \n",
    "        #finding words which start with http\n",
    "        item = re.sub('http\\S+\\s*', '', item)\n",
    "        \n",
    "        #finding special characters, but not \"emoji\"\n",
    "        item = re.sub('[%s]' % re.escape(\"\"\"!\"#$%&'()*+,-./:;<=>?@[\\]^_`{|}~\"\"\"), '', item)\n",
    "        temp_list.append(item)\n",
    "    return temp_list"
   ]
  },
  {
   "cell_type": "code",
   "execution_count": 6,
   "metadata": {},
   "outputs": [],
   "source": [
    "#Function to predict tweet sentiment\n",
    "def tweet_sentiment():\n",
    "    #reading the tweets from csv files\n",
    "    df = pd.read_csv(\"airlinetweets.csv\")\n",
    "    tweets = df[\"text\"]\n",
    "    polarity = df[\"airline_sentiment\"].tolist()\n",
    "    \n",
    "    #cleaning tweets i.e. removing @mentions, http(s) links and special characters such as punctuations\n",
    "    clean_tweet = cleaner(tweets)\n",
    "    \n",
    "    #initializing tf-idf vectorizer\n",
    "    tf_idfvectorizer = TfidfVectorizer(sublinear_tf=True, use_idf=True)\n",
    "    \n",
    "    #splitting the data into train and test dataset in 70 : 30 ratio at random\n",
    "    X_train, X_test, Y_train, Y_test = train_test_split(clean_tweet, polarity, test_size = 0.2)\n",
    "    \n",
    "    #vectorizing the training data\n",
    "    #fit_transform() does two jobs, fit() and transform()\n",
    "    #fit calculates the statistics of the data\n",
    "    #transform takes care of any missing values or unexpected values by utilizing statistics calculated by fit\n",
    "    train_corpus_tf_idf = tf_idfvectorizer.fit_transform(X_train) \n",
    "        \n",
    "    #vectorizing the testing data\n",
    "    #transform takes care of any missing values or unexpected values based on fit for training data\n",
    "    test_corpus_tf_idf = tf_idfvectorizer.transform(X_test)\n",
    "    \n",
    "    #using SVC package to initialize a classifier with Linear kernel and other default parameters\n",
    "    SVM_L = SVC(kernel= 'linear')\n",
    "    \n",
    "    #fitting the sparse matrix in the classifier with their respective sentiments\n",
    "    SVM_L.fit(train_corpus_tf_idf, Y_train)\n",
    "    \n",
    "    #predicting the sentiments for the test dataset\n",
    "    Y_pred = SVM_L.predict(test_corpus_tf_idf)\n",
    "    \n",
    "    #this print accuracy score for the test dataset\n",
    "    print(\"Accuracy\",accuracy_score(Y_test,Y_pred))\n",
    "    \n",
    "    \n",
    "    #saving the data into a csv file in the current folder\n",
    "    temp_df = pd.DataFrame()\n",
    "    temp_df[\"Tweet\"] = X_test\n",
    "    temp_df[\"Sentiment\"] = Y_test\n",
    "    temp_df[\"Predicted Sentiment\"] = Y_pred\n",
    "    temp_df.to_csv(\"predicted_airlinetweets.csv\")\n",
    "\n",
    "    return(tf_idfvectorizer,SVM_L)"
   ]
  },
  {
   "cell_type": "code",
   "execution_count": 7,
   "metadata": {},
   "outputs": [
    {
     "name": "stdout",
     "output_type": "stream",
     "text": [
      "Accuracy 0.8084016393442623\n"
     ]
    }
   ],
   "source": [
    "vectorizer,model = tweet_sentiment()"
   ]
  },
  {
   "cell_type": "code",
   "execution_count": 11,
   "metadata": {},
   "outputs": [
    {
     "name": "stdout",
     "output_type": "stream",
     "text": [
      "['negative']\n"
     ]
    }
   ],
   "source": [
    "vector = vectorizer.transform([\"not bad journey.\"])\n",
    "sentiment = model.predict(vector)\n",
    "print(sentiment)"
   ]
  },
  {
   "cell_type": "code",
   "execution_count": null,
   "metadata": {},
   "outputs": [],
   "source": []
  },
  {
   "cell_type": "code",
   "execution_count": null,
   "metadata": {},
   "outputs": [],
   "source": []
  },
  {
   "cell_type": "code",
   "execution_count": null,
   "metadata": {},
   "outputs": [],
   "source": []
  },
  {
   "cell_type": "code",
   "execution_count": null,
   "metadata": {},
   "outputs": [],
   "source": []
  },
  {
   "cell_type": "code",
   "execution_count": null,
   "metadata": {},
   "outputs": [],
   "source": []
  },
  {
   "cell_type": "code",
   "execution_count": null,
   "metadata": {},
   "outputs": [],
   "source": []
  },
  {
   "cell_type": "code",
   "execution_count": null,
   "metadata": {},
   "outputs": [],
   "source": []
  },
  {
   "cell_type": "code",
   "execution_count": null,
   "metadata": {},
   "outputs": [],
   "source": []
  },
  {
   "cell_type": "code",
   "execution_count": null,
   "metadata": {},
   "outputs": [],
   "source": []
  },
  {
   "cell_type": "code",
   "execution_count": null,
   "metadata": {},
   "outputs": [],
   "source": []
  },
  {
   "cell_type": "code",
   "execution_count": null,
   "metadata": {},
   "outputs": [],
   "source": []
  },
  {
   "cell_type": "code",
   "execution_count": null,
   "metadata": {},
   "outputs": [],
   "source": []
  },
  {
   "cell_type": "code",
   "execution_count": null,
   "metadata": {},
   "outputs": [],
   "source": []
  },
  {
   "cell_type": "code",
   "execution_count": null,
   "metadata": {},
   "outputs": [],
   "source": []
  },
  {
   "cell_type": "code",
   "execution_count": null,
   "metadata": {},
   "outputs": [],
   "source": []
  },
  {
   "cell_type": "code",
   "execution_count": null,
   "metadata": {},
   "outputs": [],
   "source": []
  },
  {
   "cell_type": "code",
   "execution_count": null,
   "metadata": {},
   "outputs": [],
   "source": []
  },
  {
   "cell_type": "code",
   "execution_count": null,
   "metadata": {},
   "outputs": [],
   "source": []
  },
  {
   "cell_type": "code",
   "execution_count": null,
   "metadata": {},
   "outputs": [],
   "source": []
  },
  {
   "cell_type": "code",
   "execution_count": null,
   "metadata": {},
   "outputs": [],
   "source": []
  },
  {
   "cell_type": "code",
   "execution_count": null,
   "metadata": {},
   "outputs": [],
   "source": []
  },
  {
   "cell_type": "code",
   "execution_count": null,
   "metadata": {},
   "outputs": [],
   "source": []
  },
  {
   "cell_type": "code",
   "execution_count": null,
   "metadata": {},
   "outputs": [],
   "source": []
  },
  {
   "cell_type": "code",
   "execution_count": null,
   "metadata": {},
   "outputs": [],
   "source": []
  },
  {
   "cell_type": "code",
   "execution_count": null,
   "metadata": {},
   "outputs": [],
   "source": []
  },
  {
   "cell_type": "code",
   "execution_count": null,
   "metadata": {},
   "outputs": [],
   "source": []
  },
  {
   "cell_type": "code",
   "execution_count": null,
   "metadata": {},
   "outputs": [],
   "source": []
  },
  {
   "cell_type": "code",
   "execution_count": null,
   "metadata": {},
   "outputs": [],
   "source": []
  }
 ],
 "metadata": {
  "kernelspec": {
   "display_name": "Python 3",
   "language": "python",
   "name": "python3"
  },
  "language_info": {
   "codemirror_mode": {
    "name": "ipython",
    "version": 3
   },
   "file_extension": ".py",
   "mimetype": "text/x-python",
   "name": "python",
   "nbconvert_exporter": "python",
   "pygments_lexer": "ipython3",
   "version": "3.7.6"
  }
 },
 "nbformat": 4,
 "nbformat_minor": 4
}
